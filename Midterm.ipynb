{
  "nbformat": 4,
  "nbformat_minor": 0,
  "metadata": {
    "colab": {
      "name": "Midterm.ipynb",
      "provenance": [],
      "collapsed_sections": [],
      "authorship_tag": "ABX9TyP0PKQo/bbxr8u0kIWeUlMJ",
      "include_colab_link": true
    },
    "kernelspec": {
      "name": "python3",
      "display_name": "Python 3"
    },
    "language_info": {
      "name": "python"
    }
  },
  "cells": [
    {
      "cell_type": "markdown",
      "metadata": {
        "id": "view-in-github",
        "colab_type": "text"
      },
      "source": [
        "<a href=\"https://colab.research.google.com/github/SharonCao0920/AI/blob/main/Midterm.ipynb\" target=\"_parent\"><img src=\"https://colab.research.google.com/assets/colab-badge.svg\" alt=\"Open In Colab\"/></a>"
      ]
    },
    {
      "cell_type": "code",
      "execution_count": 15,
      "metadata": {
        "colab": {
          "base_uri": "https://localhost:8080/"
        },
        "id": "K_OHBHVLSxUE",
        "outputId": "b485432f-0b07-4172-d327-e48074150d5e"
      },
      "outputs": [
        {
          "output_type": "stream",
          "name": "stdout",
          "text": [
            "Alcohol before scaling is:  [14.23, 13.2, 13.16, 14.37, 13.24]\n",
            "Mean is:  13.64\n",
            "Standard diviation is:  0.5412947441089743\n",
            "Alcohol after scaling is:  [15.510403696640667, -10.729828920767687, -11.669797404735743, 19.379645034735635, -9.783948685328093]\n",
            "\n",
            "Malic_acid before scaling is:  [1.71, 1.78, 2.36, 1.95, 2.59]\n",
            "Mean is:  2.0780000000000003\n",
            "Standard diviation is:  0.34125650176956324\n",
            "Malic_acid after scaling is:  [-1.844008822504217, -1.5543733152319108, 1.9502046013745924, -0.7314146359284474, 3.8858746811377887]\n"
          ]
        }
      ],
      "source": [
        "\"\"\"\n",
        "2.Write python program to make feature scaling for \"Alcohol\" and \"Malic acid\" in \n",
        "the following dataset\n",
        "\"\"\"\n",
        "import numpy as np\n",
        "#scaling for data\n",
        "def scalS (s):\n",
        "  u = np.mean(s) #mean\n",
        "  print(\"Mean is: \", u)\n",
        "  sd = np.std(s) #std\n",
        "  print(\"Standard diviation is: \", sd)\n",
        "  for i in range(len(s)):\n",
        "    s[i] *= (s[i] - u) / sd\n",
        "  return s\n",
        "\n",
        "alcohol = [14.23,13.2,13.16,14.37,13.24]\n",
        "malic_acid = [1.71,1.78,2.36,1.95,2.59]\n",
        "\n",
        "print(\"Alcohol before scaling is: \", alcohol)\n",
        "alcohol_w = scalS(alcohol)\n",
        "print(\"Alcohol after scaling is: \", alcohol_w)\n",
        "print()\n",
        "print(\"Malic_acid before scaling is: \", malic_acid)\n",
        "malic_acid_w = scalS(malic_acid)\n",
        "print(\"Malic_acid after scaling is: \", malic_acid_w)\n"
      ]
    },
    {
      "cell_type": "code",
      "source": [
        "\"\"\"\n",
        "3.Given the dataset as below, write python program or hand calculation to find \n",
        "in linear regression hypothesis function by normal equation method\n",
        "\"\"\"\n",
        "import numpy as np\n",
        "from numpy.linalg import inv\n",
        "x = [1, 2, 3, 4, 5]\n",
        "y = [7, 9, 12, 15, 16]\n",
        "X=np.array([[1,x[0]],\n",
        "            [1,x[1]],\n",
        "            [1,x[2]],\n",
        "            [1,x[3]],\n",
        "            [1,x[4]]], dtype=np.float64)\n",
        "Y=np.array([[y[0]],[y[1]],[y[2]],[y[3]],[y[4]]],dtype=np.float64)\n",
        "\n",
        "#theta = (X.trans * X).reverse* X.tans*Y\n",
        "XT=X.transpose()\n",
        "#print(XT)\n",
        "a = np.dot(XT , X)\n",
        "a = inv(a)\n",
        "#print(a)\n",
        "\n",
        "a = np.dot(a, XT)\n",
        "#print(a)\n",
        "\n",
        "a = np.dot(a, Y)\n",
        "print(\"Theta 0 is: \", a[0][0])\n",
        "print(\"Theta 1 is: \", a[1][0])"
      ],
      "metadata": {
        "colab": {
          "base_uri": "https://localhost:8080/"
        },
        "id": "TIGnvmrDWJfM",
        "outputId": "c7e86067-3738-492c-f589-94c2fa76446a"
      },
      "execution_count": 12,
      "outputs": [
        {
          "output_type": "stream",
          "name": "stdout",
          "text": [
            "Theta 0 is:  4.600000000000011\n",
            "Theta 1 is:  2.400000000000001\n"
          ]
        }
      ]
    },
    {
      "cell_type": "code",
      "source": [
        "import pandas as pd\n",
        "import numpy as np\n",
        "import matplotlib.pyplot as plt\n",
        "from sklearn.datasets import make_blobs\n",
        "import seaborn as sns\n",
        "\n",
        "data = pd.DataFrame()\n",
        "\n",
        "data['x1']=[-3.98, -3.464,3.461,-2.22,-2.02,-2.01,-1.42,-1.416,-1.09,-0.19,0.01,0.03,\n",
        "    0.04,0.06,0.07,0.12,1.11,1.411,1.414,1.86,1.96,2.11,3.461,3.464,4.12]\n",
        "data['x2']=[-0.12,-2.11,1.89,-3.474,0.03,3.459,-1.409,1.419,0.08,-4.13,1.02,-2.12,\n",
        "    2.06,3.97,0.1,-1.12,0.09,1.419,-1.415,3.47,-0.12,-3.472,-1.87,2.07,0.09]\n",
        "data['y']=[1,1,1,1,0,1,0,0,0,1,0,0,0,1,0,0,0,0,0,1,0,1,1,1,1]\n",
        "\n",
        "# Create a scatter plot\n",
        "plt.scatter(data.x1, data.x2, c=data.y, cmap='rainbow')\n",
        "plt.title('Scatter Plot of Logistic Regression')\n",
        "plt.show()\n",
        "#sns.pairplot(data, hue='y')\n",
        "\n",
        "from sklearn.model_selection import train_test_split\n",
        "# 80% train\n",
        "train, test= train_test_split(data.values, test_size=0.2)\n",
        "\n",
        "from math import exp\n",
        "\n",
        "def predict(row, theta):\n",
        "  x = row [0:2]\n",
        "  #hypothesis function\n",
        "  yhat = theta[0] + theta[1]*(x[0]**2) + theta[2]*(x[1]**2)\n",
        "  return 1.0 / (1.0 + exp(-yhat))\n",
        "\n",
        "l_rate = 0.3\n",
        "n_iter = 100\n",
        "\n",
        "#loss function\n",
        "loss = np.zeros(n_iter)\n",
        "theta = [0.0, 0.0, 0.0]\n",
        "for iter in range(n_iter):\n",
        "  sum_error = 0\n",
        "  for row in train:\n",
        "    x = row[0:-1]\n",
        "    y = row[-1] #last column in matrix\n",
        "    yhat = predict(row, theta)\n",
        "    error = y-yhat\n",
        "    sum_error += error*2\n",
        "    theta[0] += l_rate*error*yhat*(1-yhat)\n",
        "    theta[1] += l_rate*error*yhat*(1-yhat)*(x[0]**2)\n",
        "    theta[2] += l_rate*error*yhat*(1-yhat)*(x[1]**2)\n",
        "  loss[iter] = sum_error\n",
        "\n",
        "print()\n",
        "print(\"Theta 0 = \", theta[0])\n",
        "print(\"Theta 1 = \", theta[1])\n",
        "print(\"Theta 2 = \", theta[2])\n",
        "print()"
      ],
      "metadata": {
        "id": "4FRKtCAJbWmt"
      },
      "execution_count": null,
      "outputs": []
    }
  ]
}
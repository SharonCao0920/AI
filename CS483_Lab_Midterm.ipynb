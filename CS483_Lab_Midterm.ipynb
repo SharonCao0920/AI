{
  "nbformat": 4,
  "nbformat_minor": 0,
  "metadata": {
    "colab": {
      "name": "CS483 Lab Midterm.ipynb",
      "provenance": [],
      "collapsed_sections": [],
      "authorship_tag": "ABX9TyOiW/JAxJA6aJrnqLJCI4GV",
      "include_colab_link": true
    },
    "kernelspec": {
      "name": "python3",
      "display_name": "Python 3"
    },
    "language_info": {
      "name": "python"
    }
  },
  "cells": [
    {
      "cell_type": "markdown",
      "metadata": {
        "id": "view-in-github",
        "colab_type": "text"
      },
      "source": [
        "<a href=\"https://colab.research.google.com/github/SharonCao0920/AI/blob/main/CS483_Lab_Midterm.ipynb\" target=\"_parent\"><img src=\"https://colab.research.google.com/assets/colab-badge.svg\" alt=\"Open In Colab\"/></a>"
      ]
    },
    {
      "cell_type": "code",
      "execution_count": null,
      "metadata": {
        "colab": {
          "base_uri": "https://localhost:8080/"
        },
        "id": "c6yX5qtZHLK8",
        "outputId": "3f96f4c2-d87c-4800-fa50-f2fddc922e6c"
      },
      "outputs": [
        {
          "output_type": "stream",
          "name": "stdout",
          "text": [
            "3x3 Matrix: \n",
            "[94 91 15]\n",
            "[71 92 98]\n",
            "[79 62  6]\n"
          ]
        }
      ],
      "source": [
        "\"\"\"\n",
        "1.Create 3x3 matrix with random number elements\n",
        "\"\"\"\n",
        "import numpy as np\n",
        "m = np.random.randint(0,100,(3,3))\n",
        "print(\"3x3 Matrix: \")\n",
        "for row in m:\n",
        "  print(row)\n"
      ]
    },
    {
      "cell_type": "code",
      "source": [
        "\"\"\"\n",
        "2.Don’t change original array, substitute even numbers in it to -1, such as\n",
        "\"\"\"\n",
        "m[m%2 ==0] = -1\n",
        "print(\"Change all even to -1: \")\n",
        "for row in m:\n",
        "  print(row)"
      ],
      "metadata": {
        "colab": {
          "base_uri": "https://localhost:8080/"
        },
        "id": "9CX9jORQJ1qD",
        "outputId": "c1132f03-42c0-4bb7-db30-22dc9f8ae4ab"
      },
      "execution_count": null,
      "outputs": [
        {
          "output_type": "stream",
          "name": "stdout",
          "text": [
            "Change all even to -1: \n",
            "[-1 91 15]\n",
            "[71 -1 -1]\n",
            "[79 -1 -1]\n"
          ]
        }
      ]
    },
    {
      "cell_type": "code",
      "source": [
        "\"\"\"\n",
        "3.Extract the common elements from two arrays, like\n",
        "\"\"\"\n",
        "a = [11,12, 13, 14]\n",
        "b = [11,13, 15, 16]\n",
        "c = np.intersect1d(a, b)\n",
        "print(\"Array a is: \\n\", a)\n",
        "print(\"Array b is: \\n\", b)\n",
        "print(\"The common elements of two arrary are: \\n\", c)\n"
      ],
      "metadata": {
        "colab": {
          "base_uri": "https://localhost:8080/"
        },
        "id": "r0gOw_P9KjZJ",
        "outputId": "33d63076-7222-4cf3-ec6c-36b7e413f66b"
      },
      "execution_count": null,
      "outputs": [
        {
          "output_type": "stream",
          "name": "stdout",
          "text": [
            "Array a is: \n",
            " [11, 12, 13, 14]\n",
            "Array b is: \n",
            " [11, 13, 15, 16]\n",
            "The common elements of two arrary are: \n",
            " [11 13]\n"
          ]
        }
      ]
    },
    {
      "cell_type": "code",
      "source": [
        "\"\"\"\n",
        "4.Swap 2 rows in a 3x3 matrix\n",
        "\"\"\"\n",
        "print(\"Before swaping rows:\")\n",
        "for row in m:\n",
        "  print(row)\n",
        "m[[0, 2]] = m[[2, 0]]  \n",
        "print(\"After swaping rows:\")\n",
        "for row in m:\n",
        "  print(row)"
      ],
      "metadata": {
        "colab": {
          "base_uri": "https://localhost:8080/"
        },
        "id": "hTE5krZ5Lh5c",
        "outputId": "fedd5860-cc2d-42ae-95a6-e3024a91a3a1"
      },
      "execution_count": null,
      "outputs": [
        {
          "output_type": "stream",
          "name": "stdout",
          "text": [
            "Before swaping rows:\n",
            "[-1 91 15]\n",
            "[71 -1 -1]\n",
            "[79 -1 -1]\n",
            "After swaping rows:\n",
            "[79 -1 -1]\n",
            "[71 -1 -1]\n",
            "[-1 91 15]\n"
          ]
        }
      ]
    },
    {
      "cell_type": "code",
      "source": [
        "\"\"\"\n",
        "5.Calculate mean and standard deviation in an integer array\n",
        "\"\"\"\n",
        "print(\"Array:\")\n",
        "for row in m:\n",
        "  print(row)\n",
        "mean = np.mean(m)\n",
        "std = np.std(m)\n",
        "print(\"Mean of array is: \", mean)\n",
        "print(\"Standard deviation of array is: \", std)"
      ],
      "metadata": {
        "colab": {
          "base_uri": "https://localhost:8080/"
        },
        "id": "yVE73kQZMUGO",
        "outputId": "45ac811a-97b4-4733-d7da-3ca61e457d79"
      },
      "execution_count": null,
      "outputs": [
        {
          "output_type": "stream",
          "name": "stdout",
          "text": [
            "Array:\n",
            "[79 -1 -1]\n",
            "[71 -1 -1]\n",
            "[-1 91 15]\n",
            "Mean of array is:  27.88888888888889\n",
            "Standard deviation of array is:  37.701884551908435\n"
          ]
        }
      ]
    },
    {
      "cell_type": "code",
      "source": [
        "\"\"\"\n",
        "6.Convert string 'P' and 'NP' to number 0 and 1 respectively in a given 1d array, \n",
        "such as \n",
        "\"\"\"\n",
        "import numpy as np\n",
        "x = [1, 2, 3, 'P', 4, 5, 6, 'NP']\n",
        "print(\"Original array:  \")\n",
        "print(x)\n",
        "for i in range(len(x)):\n",
        "  if x[i]=='P':\n",
        "    x[i]=0\n",
        "  elif x[i]=='NP':\n",
        "    x[i]=1\n",
        "print(\"After changing:  \")\n",
        "print(x)\n",
        "\n",
        "# x=np.char.replace(x, 'P', '0')\n",
        "# print(x)\n",
        "\n",
        "# np.where(x == 'P', 0, a)\n",
        "# np.where(x == 'NP', 1, a)\n"
      ],
      "metadata": {
        "colab": {
          "base_uri": "https://localhost:8080/"
        },
        "id": "mK9-JPPTNixj",
        "outputId": "e42eaf90-f98a-4082-e610-29413788b8d5"
      },
      "execution_count": null,
      "outputs": [
        {
          "output_type": "stream",
          "name": "stdout",
          "text": [
            "Original array:  \n",
            "[1, 2, 3, 'P', 4, 5, 6, 'NP']\n",
            "After changing:  \n",
            "[1, 2, 3, 0, 4, 5, 6, 1]\n"
          ]
        }
      ]
    },
    {
      "cell_type": "code",
      "source": [
        "\"\"\"\n",
        "7.Plot two lines on one figure with the legend for each\n",
        "\"\"\"\n",
        "import matplotlib.pyplot as plt\n",
        " \n",
        "plt.plot([-5, 15], label='line 1')\n",
        "plt.plot([0, 17], label='linge 2')\n",
        "\n",
        "plt.title(\"Question #7\")\n",
        "plt.xlabel(\"X-axis\")\n",
        "plt.ylabel(\"Y-axis\")\n",
        " \n",
        "plt.legend()\n",
        "plt.show()"
      ],
      "metadata": {
        "colab": {
          "base_uri": "https://localhost:8080/",
          "height": 295
        },
        "id": "DBMssQoZHdaB",
        "outputId": "b1cd35be-8fb6-4655-9bb7-d0542afade2d"
      },
      "execution_count": null,
      "outputs": [
        {
          "output_type": "display_data",
          "data": {
            "text/plain": [
              "<Figure size 432x288 with 1 Axes>"
            ],
            "image/png": "[encoded data removed]"
          },
          "metadata": {
            "needs_background": "light"
          }
        }
      ]
    },
    {
      "cell_type": "code",
      "source": [
        "\"\"\"\n",
        "8.Draw a 2d scatter plot for samples (X1, X2, y) in different colors for y = 0 \n",
        "and y = 1 \n",
        "\"\"\"\n",
        "import pandas as pd\n",
        "import numpy as np\n",
        "import matplotlib.pyplot as plt\n",
        "from sklearn.datasets import make_blobs\n",
        "import seaborn as sns\n",
        "\n",
        "data = pd.DataFrame()\n",
        "x1=np.random.randint(0,100,50)\n",
        "print(\"Random x1 with size 50: \\n\", x1)\n",
        "x2=np.random.randint(0,100, 50)\n",
        "print(\"Random x2 with size 50: \\n\",x2)\n",
        "y=np.random.randint(0, 2, 50)\n",
        "print(\"Random y with size 50: \\n\",y)\n",
        "\n",
        "# Create a scatter plot\n",
        "plt.scatter(x1, x2, c=y, cmap='rainbow')\n",
        "plt.title(\"Question #8\")\n",
        "plt.show()"
      ],
      "metadata": {
        "colab": {
          "base_uri": "https://localhost:8080/",
          "height": 482
        },
        "id": "km_liMC_R5wI",
        "outputId": "2a7ed332-7bcb-49c1-ac40-de40e76bfe24"
      },
      "execution_count": null,
      "outputs": [
        {
          "output_type": "stream",
          "name": "stdout",
          "text": [
            "Random x1 with size 50: \n",
            " [17 41 65 32 84 45 26 83 79 88 39 59 34 25 60  7  5 77 61 27 45 23 93 19\n",
            "  1 86 76 16 15 27 35 25 25 75 44 74 48 57 84 88 41 53 43 21 54 45 22 40\n",
            "  9 42]\n",
            "Random x2 with size 50: \n",
            " [38 31 98 20 71 43 50 88  5 44  4 37 33 68 88 62 34 58 43 11 29 71 81 78\n",
            " 41 69 10 12  1  7 36 55 27 91 23 94 75 18 87 88 73 70 19 59 59 51 46 99\n",
            " 11 90]\n",
            "Random y with size 50: \n",
            " [1 1 1 0 1 1 0 0 1 1 1 1 0 0 1 1 0 1 1 1 0 1 0 1 1 1 1 1 1 0 0 0 1 1 0 1 0\n",
            " 0 0 0 1 0 0 0 1 0 0 0 1 0]\n"
          ]
        },
        {
          "output_type": "display_data",
          "data": {
            "text/plain": [
              "<Figure size 432x288 with 1 Axes>"
            ],
            "image/png": "[encoded data removed]"
          },
          "metadata": {
            "needs_background": "light"
          }
        }
      ]
    },
    {
      "cell_type": "code",
      "source": [
        "\"\"\"\n",
        "9.Change 1d array from 0 to 8 to 3x3 dataframe(matrix)\n",
        "\"\"\"\n",
        "import numpy as np\n",
        "import pandas as pd\n",
        "  \n",
        "d = [0, 1, 2, 3, 4, 5, 6, 7, 8]\n",
        "print(\"1D array: \\n\", d)\n",
        "# reshape\n",
        "d = np.reshape(d,(3, 3))\n",
        "print(\"3x3 matrix: \\n\", d)\n",
        "#dataframe\n",
        "df = pd.DataFrame(d, columns =['A', 'B', 'C'])\n",
        "print(\"\\nPandas DataFrame: \")\n",
        "print(df)"
      ],
      "metadata": {
        "colab": {
          "base_uri": "https://localhost:8080/"
        },
        "id": "EVqUTdvSTt8w",
        "outputId": "605825b2-373c-45bd-877b-38b33571ea98"
      },
      "execution_count": null,
      "outputs": [
        {
          "output_type": "stream",
          "name": "stdout",
          "text": [
            "1D array: \n",
            " [0, 1, 2, 3, 4, 5, 6, 7, 8]\n",
            "3x3 matrix: \n",
            " [[0 1 2]\n",
            " [3 4 5]\n",
            " [6 7 8]]\n",
            "\n",
            "Pandas DataFrame: \n",
            "   A  B  C\n",
            "0  0  1  2\n",
            "1  3  4  5\n",
            "2  6  7  8\n"
          ]
        }
      ]
    },
    {
      "cell_type": "code",
      "source": [
        "\"\"\"\n",
        "10.Calculate the Euclidean distance from two 1d arrays, such as \n",
        "a = [1, 2, 3] and b = [4, 5, 6]\n",
        "\"\"\"\n",
        "from scipy.spatial import distance\n",
        "a = [1, 2, 3]\n",
        "b = [4, 5, 6]\n",
        "eucDis = distance.euclidean(a, b)\n",
        "print(\"Euclidean distance from array a and b is: \", eucDis)"
      ],
      "metadata": {
        "colab": {
          "base_uri": "https://localhost:8080/"
        },
        "id": "XPQV4JX3V0F5",
        "outputId": "6fa14f24-4c1d-4ac7-89ca-474c94347a3d"
      },
      "execution_count": null,
      "outputs": [
        {
          "output_type": "stream",
          "name": "stdout",
          "text": [
            "Euclidean distance from array a and b is:  5.196152422706632\n"
          ]
        }
      ]
    },
    {
      "cell_type": "code",
      "source": [
        "\"\"\"\n",
        "11.Only import odd number rows from a csv file\n",
        "\"\"\"\n",
        "import pandas as pd\n",
        "\n",
        "url=\"https://raw.githubusercontent.com/cs109/2014_data/master/countries.csv\"\n",
        "c=pd.read_csv(url)\n",
        "#print(c)\n",
        "print(\"Only prinr the odd number rows: \\n\")\n",
        "data = pd.DataFrame(c[::2])\n",
        "print(data)\n",
        "\n"
      ],
      "metadata": {
        "colab": {
          "base_uri": "https://localhost:8080/"
        },
        "id": "h93ptWkIXIVV",
        "outputId": "36d40a83-d994-4de6-b6ad-16e38588fb9c"
      },
      "execution_count": null,
      "outputs": [
        {
          "output_type": "stream",
          "name": "stdout",
          "text": [
            "Only prinr the odd number rows: \n",
            "\n",
            "                      Country         Region\n",
            "0                     Algeria         AFRICA\n",
            "2                       Benin         AFRICA\n",
            "4                     Burkina         AFRICA\n",
            "6                    Cameroon         AFRICA\n",
            "8    Central African Republic         AFRICA\n",
            "..                        ...            ...\n",
            "184                    Brazil  SOUTH AMERICA\n",
            "186                  Colombia  SOUTH AMERICA\n",
            "188                    Guyana  SOUTH AMERICA\n",
            "190                      Peru  SOUTH AMERICA\n",
            "192                   Uruguay  SOUTH AMERICA\n",
            "\n",
            "[97 rows x 2 columns]\n"
          ]
        }
      ]
    },
    {
      "cell_type": "code",
      "source": [
        "\"\"\"\n",
        "12.Substitute all elements in diagonals to 0 in a 5x5 dataframe(matrix) \n",
        "\"\"\"\n",
        "import numpy as np\n",
        "import pandas as pd\n",
        "#original dataframe random 0-100 int for 5x5\n",
        "df = pd.DataFrame(np.random.randint(0,100,(5,5)))\n",
        "print(\"Original 5x5 matrix: \\n\")\n",
        "print(df)\n",
        "\n",
        "df.values[[np.arange(df.shape[0])]*2] = 0\n",
        "print(\"After changing diagnoal: \\n\", df)"
      ],
      "metadata": {
        "colab": {
          "base_uri": "https://localhost:8080/"
        },
        "id": "2BE42TIzXIcP",
        "outputId": "03528edd-c202-452d-8953-61a65f4ebddc"
      },
      "execution_count": null,
      "outputs": [
        {
          "output_type": "stream",
          "name": "stdout",
          "text": [
            "Original 5x5 matrix: \n",
            "\n",
            "    0   1   2   3   4\n",
            "0  77  54  80   2  83\n",
            "1  66  23  51  76  91\n",
            "2  75  25  17  44   9\n",
            "3  90  29  77   3  59\n",
            "4  15  36   6  49  98\n",
            "After changing diagnoal: \n",
            "     0   1   2   3   4\n",
            "0   0  54  80   2  83\n",
            "1  66   0  51  76  91\n",
            "2  75  25   0  44   9\n",
            "3  90  29  77   0  59\n",
            "4  15  36   6  49   0\n"
          ]
        },
        {
          "output_type": "stream",
          "name": "stderr",
          "text": [
            "/usr/local/lib/python3.7/dist-packages/ipykernel_launcher.py:11: FutureWarning: Using a non-tuple sequence for multidimensional indexing is deprecated; use `arr[tuple(seq)]` instead of `arr[seq]`. In the future this will be interpreted as an array index, `arr[np.array(seq)]`, which will result either in an error or a different result.\n",
            "  # This is added back by InteractiveShellApp.init_path()\n"
          ]
        }
      ]
    },
    {
      "cell_type": "code",
      "source": [
        "\"\"\"\n",
        "13.Separate a dataframe 80% to trainingset and 20% as testset\n",
        "\"\"\"\n",
        "import pandas as pd\n",
        "import numpy as np\n",
        "\n",
        "data = pd.DataFrame()\n",
        "\n",
        "data['x1']=[1, 2, 3, 4, 5 ,6 ,7 ,8 ,9, 10]\n",
        "data['y']=[6, 4, 2, 9, 1, 6, 8, 3, 11, 17]\n",
        "\n",
        "from sklearn.model_selection import train_test_split\n",
        "# 80% train\n",
        "train, test= train_test_split(data.values, test_size=0.2)\n",
        "print(\"Trainning set is: \\n\", train)\n",
        "print(\"Testing set is: \\n\",test)"
      ],
      "metadata": {
        "colab": {
          "base_uri": "https://localhost:8080/"
        },
        "id": "ZiIzYVxDbinT",
        "outputId": "2d41327e-faa3-436c-f2a9-344ad1c33d03"
      },
      "execution_count": null,
      "outputs": [
        {
          "output_type": "stream",
          "name": "stdout",
          "text": [
            "Trainning set is: \n",
            " [[ 3  2]\n",
            " [ 2  4]\n",
            " [ 9 11]\n",
            " [ 4  9]\n",
            " [ 7  8]\n",
            " [ 6  6]\n",
            " [ 5  1]\n",
            " [10 17]]\n",
            "Testing set is: \n",
            " [[8 3]\n",
            " [1 6]]\n"
          ]
        }
      ]
    }
  ]
}
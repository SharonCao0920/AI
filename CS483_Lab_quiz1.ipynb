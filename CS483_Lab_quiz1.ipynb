{
  "nbformat": 4,
  "nbformat_minor": 0,
  "metadata": {
    "colab": {
      "name": "CS483_Lab#quiz1.ipynb",
      "provenance": [],
      "collapsed_sections": [],
      "authorship_tag": "ABX9TyM2NUcbfQGYh0RRKwx4q5ab",
      "include_colab_link": true
    },
    "kernelspec": {
      "name": "python3",
      "display_name": "Python 3"
    },
    "language_info": {
      "name": "python"
    }
  },
  "cells": [
    {
      "cell_type": "markdown",
      "metadata": {
        "id": "view-in-github",
        "colab_type": "text"
      },
      "source": [
        "<a href=\"https://colab.research.google.com/github/SharonCao0920/AI/blob/main/CS483_Lab_quiz1.ipynb\" target=\"_parent\"><img src=\"https://colab.research.google.com/assets/colab-badge.svg\" alt=\"Open In Colab\"/></a>"
      ]
    },
    {
      "cell_type": "code",
      "execution_count": 10,
      "metadata": {
        "colab": {
          "base_uri": "https://localhost:8080/"
        },
        "id": "uqDjNp52MglP",
        "outputId": "63026be7-6af7-4d5f-8f11-9adb53b860f6"
      },
      "outputs": [
        {
          "output_type": "stream",
          "name": "stdout",
          "text": [
            "      ID    Name   GPA\n",
            "0  12345    John  3.50\n",
            "1  12346    Mike  3.45\n",
            "2  12347     Jim  2.95\n",
            "3  12348   Peter  3.12\n",
            "4  12349    Jack  2.65\n",
            "5  12350  Andrew  3.01\n",
            "6  12351    Adam  3.70\n",
            "7  12352    Jeff  2.89\n",
            "8  12353   David  3.34\n",
            "9  12354   Kevin  3.82\n",
            "--------------------------------------\n",
            "         ID    Name\n",
            "GPA                \n",
            "3.50  12345    John\n",
            "3.45  12346    Mike\n",
            "2.95  12347     Jim\n",
            "3.12  12348   Peter\n",
            "2.65  12349    Jack\n",
            "3.01  12350  Andrew\n",
            "3.70  12351    Adam\n",
            "2.89  12352    Jeff\n",
            "3.34  12353   David\n",
            "3.82  12354   Kevin\n",
            "------------------------------------------------\n",
            "         Date\n",
            "0  2020-07-01\n",
            "1  2020-07-02\n",
            "2  2020-07-03\n",
            "3  2020-07-04\n",
            "4  2020-07-05\n",
            "5  2020-07-06\n",
            "6  2020-07-07\n",
            "7  2020-07-08\n",
            "8  2020-07-09\n",
            "9  2020-07-10\n",
            "10 2020-07-11\n",
            "11 2020-07-12\n",
            "12 2020-07-13\n",
            "13 2020-07-14\n",
            "14 2020-07-15\n",
            "15 2020-07-16\n",
            "16 2020-07-17\n",
            "17 2020-07-18\n",
            "18 2020-07-19\n",
            "19 2020-07-20\n",
            "20 2020-07-21\n",
            "21 2020-07-22\n",
            "22 2020-07-23\n",
            "23 2020-07-24\n",
            "24 2020-07-25\n",
            "25 2020-07-26\n",
            "26 2020-07-27\n",
            "27 2020-07-28\n",
            "28 2020-07-29\n",
            "29 2020-07-30\n",
            "30 2020-07-31\n",
            "31 2020-08-01\n",
            "------------------------------------------------\n",
            "      ID    Name   GPA Major\n",
            "0  12345    John  3.50  BSCS\n",
            "1  12346    Mike  3.45  MSCS\n",
            "2  12347     Jim  2.95  BSCS\n",
            "3  12348   Peter  3.12  MSCS\n",
            "4  12349    Jack  2.65  BSCS\n",
            "5  12350  Andrew  3.01  MSCS\n",
            "6  12351    Adam  3.70  MSCS\n",
            "7  12352    Jeff  2.89  MSCS\n",
            "8  12353   David  3.34  BSCS\n",
            "9  12354   Kevin  3.82  BSCS\n"
          ]
        }
      ],
      "source": [
        "#quiz1\n",
        "import pandas as pd\n",
        "import matplotlib.pyplot as plt\n",
        "from matplotlib import style\n",
        "\n",
        "record = {'ID':[12345, 12346, 12347, 12348, 12349, 12350, 12351, 12352, 12353, 12354],\n",
        "             'Name':['John','Mike','Jim','Peter','Jack', 'Andrew','Adam','Jeff', 'David', 'Kevin'],\n",
        "             'GPA':[3.5, 3.45, 2.95, 3.12, 2.65, 3.01, 3.70, 2.89, 3.34, 3.82]}\n",
        "\n",
        "df=pd.DataFrame(record)\n",
        "print(df)\n",
        "print('--------------------------------------')\n",
        "df.set_index('GPA',inplace=True)\n",
        "print(df)\n",
        "\n",
        "#3.Generate time series from 7/1/2020 to 8/1/2020\n",
        "#d = {'Date':[pd.date_range(\"1-Jul-2020\", \"1-Aug-2020\", freq=\"D\")]}\n",
        "d = pd.date_range(\"1-Jul-2020\", \"1-Aug-2020\", freq=\"D\", name='Date')\n",
        "df1 = pd.DataFrame(d)\n",
        "print('------------------------------------------------')\n",
        "print(df1)\n",
        "\n",
        "#4. Add one more column for student’s major BSCS or MSCS\n",
        "record.update({'Major': \n",
        "               ['BSCS','MSCS','BSCS', 'MSCS','BSCS','MSCS', 'MSCS', 'MSCS', 'BSCS', 'BSCS']})\n",
        "\n",
        "df=pd.DataFrame(record)\n",
        "print('------------------------------------------------')\n",
        "print(df)"
      ]
    }
  ]
}
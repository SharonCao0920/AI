{
  "nbformat": 4,
  "nbformat_minor": 0,
  "metadata": {
    "colab": {
      "name": "CS483 Lecture HW#3.ipynb",
      "provenance": [],
      "collapsed_sections": [],
      "mount_file_id": "1S9rXNqxzUXs7E_b8O0MG_wXQiW2uSNkj",
      "authorship_tag": "ABX9TyPNS9jUzCsXf6xWL0xCdPLB",
      "include_colab_link": true
    },
    "kernelspec": {
      "name": "python3",
      "display_name": "Python 3"
    },
    "language_info": {
      "name": "python"
    }
  },
  "cells": [
    {
      "cell_type": "markdown",
      "metadata": {
        "id": "view-in-github",
        "colab_type": "text"
      },
      "source": [
        "<a href=\"https://colab.research.google.com/github/SharonCao0920/AI/blob/main/CS483_Lecture_HW_3.ipynb\" target=\"_parent\"><img src=\"https://colab.research.google.com/assets/colab-badge.svg\" alt=\"Open In Colab\"/></a>"
      ]
    },
    {
      "cell_type": "code",
      "execution_count": null,
      "metadata": {
        "id": "bcYSwb_wyYx_",
        "colab": {
          "base_uri": "https://localhost:8080/"
        },
        "outputId": "6b9a9353-a75a-48ad-9074-7c8b596ff526"
      },
      "outputs": [
        {
          "output_type": "stream",
          "name": "stdout",
          "text": [
            "/content/drive/My Drive/Colab Notebooks/Lecture\n",
            "   ID     Name  Age Gender             Fan\n",
            "0   0     Bill   32      M  Rolling Stones\n",
            "1   1    Henry   40      M         Neither\n",
            "2   2     Mary   16      F    Taylor Swift\n",
            "3   3  Tiffany   14      F    Taylor Swift\n",
            "4   4  Michael   55      M         Neither\n",
            "5   5   Carlos   40      M    Taylor Swift\n",
            "6   6   Ashely   20      F         Neither\n",
            "7   7   Robert   15      M    Taylor Swift\n",
            "8   8    Sally   55      F  Rolling Stones\n",
            "9   9     John   15      M  Rolling Stones\n",
            "------------------------------------------------\n",
            "   ID     Name  Age Gender             Fan\n",
            "0   0     Bill   32      0  Rolling Stones\n",
            "1   1    Henry   40      0         Neither\n",
            "2   2     Mary   16      1    Taylor Swift\n",
            "3   3  Tiffany   14      1    Taylor Swift\n",
            "4   4  Michael   55      0         Neither\n",
            "5   5   Carlos   40      0    Taylor Swift\n",
            "6   6   Ashely   20      1         Neither\n",
            "7   7   Robert   15      0    Taylor Swift\n",
            "8   8    Sally   55      1  Rolling Stones\n",
            "9   9     John   15      0  Rolling Stones\n"
          ]
        }
      ],
      "source": [
        "\"\"\"\n",
        "Question_2.Design KNN classifier based on the following small dataset\n",
        "- Preprocess the dataset first before any processing by substituting M & F with \n",
        "0 and 1 respectively\n",
        "\"\"\"\n",
        "%cd /content/drive/My Drive/Colab Notebooks/Lecture\n",
        "import pandas as pd\n",
        "#reading data\n",
        "df=pd.read_excel(\"Question2.xlsx\",\"Sheet1\")\n",
        "df=df[:-1]\n",
        "print(df)\n",
        "#cvs file\n",
        "# df.replace({'Gender':'M'}, '0')\n",
        "# df.replace({'Gender':'F'}, '1')\n",
        "# df.replace(to_replace =\"M\",\n",
        "#                  value =\"0\")\n",
        "\n",
        "#replace for excel file\n",
        "print('------------------------------------------------')\n",
        "df.loc[df['Gender'] == 'M', 'Gender'] = '0'\n",
        "df.loc[df['Gender'] == 'F', 'Gender'] = '1'\n",
        "print(df)"
      ]
    },
    {
      "cell_type": "code",
      "source": [
        "\"\"\"\n",
        "- Calculate error rate for validation set from K=1 to K=7 either in Python program or Excel \n",
        "- Select an appropriate K’s value and predict what class the new data in red color belongs to\n",
        "- Finally write Python program by calling functions from scikit-learn to verify your design based on hand calculation results\n",
        "\"\"\"\n",
        "# Import necessary modules\n",
        "from sklearn.neighbors import KNeighborsClassifier\n",
        "from sklearn.model_selection import train_test_split\n",
        "from sklearn.datasets import load_iris\n",
        "import numpy as np\n",
        "import matplotlib.pyplot as plt\n",
        "df=pd.read_excel(\"HW#3_exl.xlsx\",\"Sheet4\")\n",
        "print(\"Dataset is: \\n\",df)\n",
        "\n",
        "X = df.iloc[:, 2:-1].values\n",
        "y = df.iloc[:, 4].values\n",
        "\n",
        "\"\"\"\n",
        "- Randomly separate the dataset to training set (70%) and validation set (30%) \n",
        "by sample’s ID generated either from Python program or Excel unduplicated random \n",
        "function\n",
        "\"\"\"\n",
        "# Split into training and test set\n",
        "X_train, X_test, y_train, y_test = train_test_split(\n",
        "             X, y, test_size = 0.3, random_state=42)\n",
        " \n",
        "from sklearn.preprocessing import StandardScaler\n",
        "scaler = StandardScaler()\n",
        "scaler.fit(X_train)\n",
        "\n",
        "X_train = scaler.transform(X_train)\n",
        "X_test = scaler.transform(X_test)\n",
        "\n",
        "from sklearn.neighbors import KNeighborsClassifier\n",
        "classifier = KNeighborsClassifier(n_neighbors=7)\n",
        "classifier.fit(X_train, y_train)\n",
        "\n",
        "print(\"---------------------------------\")\n",
        "y_pred = classifier.predict(X_test)\n",
        "print(\"Result of testing set: \")\n",
        "print(y_pred)\n",
        "\n",
        "from sklearn.metrics import classification_report, confusion_matrix\n",
        "print(\"---------------------------------\")\n",
        "print(\"Confusion matrix\")\n",
        "print(confusion_matrix(y_test, y_pred))\n",
        "\n",
        "print(\"---------------------------------\")\n",
        "x_p = scaler.transform([[10,1]])\n",
        "y_xp = classifier.predict(x_p)\n",
        "print(\"Prediction of value:\\n\", y_xp)"
      ],
      "metadata": {
        "colab": {
          "base_uri": "https://localhost:8080/"
        },
        "id": "wKpIAkWsBEgh",
        "outputId": "5508de42-230b-4902-8419-864e32964aa0"
      },
      "execution_count": 59,
      "outputs": [
        {
          "output_type": "stream",
          "name": "stdout",
          "text": [
            "Dataset is: \n",
            "    ID     Name  Age  Gender             Fan\n",
            "0   0     Bill   32       0  Rolling Stones\n",
            "1   1    Henry   40       0         Neither\n",
            "2   2     Mary   16       1    Taylor Swift\n",
            "3   3  Tiffany   14       1    Taylor Swift\n",
            "4   4  Michael   55       0         Neither\n",
            "5   5   Carlos   40       0    Taylor Swift\n",
            "6   6   Ashely   20       1         Neither\n",
            "7   7   Robert   15       0    Taylor Swift\n",
            "8   8    Sally   55       1  Rolling Stones\n",
            "9   9     John   15       0  Rolling Stones\n",
            "---------------------------------\n",
            "Result of testing set: \n",
            "['Taylor Swift' 'Taylor Swift' 'Taylor Swift']\n",
            "---------------------------------\n",
            "Confusion matrix\n",
            "[[0 0 1]\n",
            " [0 0 1]\n",
            " [0 0 1]]\n",
            "---------------------------------\n",
            "Prediction of value:\n",
            " ['Taylor Swift']\n"
          ]
        }
      ]
    },
    {
      "cell_type": "code",
      "source": [
        "\"\"\"\n",
        "3.K-Means algorithm is one of popular methods in unsupervised learning. Please \n",
        "plot elbow curve of total WCSS (within cluster sum of square) vs K from 1 to 5 \n",
        "either created by hand or Python program and select a proper K’s value based on \n",
        "your observation as the final number of clusters in your design. And then write \n",
        "Python program to verify your by-hand calculation results\n",
        "\"\"\"\n"
      ],
      "metadata": {
        "id": "R87QT0d--pA7"
      },
      "execution_count": null,
      "outputs": []
    }
  ]
}
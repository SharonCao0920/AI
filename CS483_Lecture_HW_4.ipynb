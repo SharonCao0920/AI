{
  "nbformat": 4,
  "nbformat_minor": 0,
  "metadata": {
    "colab": {
      "name": "CS483 Lecture HW#4.ipynb",
      "provenance": [],
      "mount_file_id": "12-9MxYhJHjvKHX2WPhfHC8pJWDEY7sCd",
      "authorship_tag": "ABX9TyP5m6pDKIH2v0VmnE5DpVKt",
      "include_colab_link": true
    },
    "kernelspec": {
      "name": "python3",
      "display_name": "Python 3"
    },
    "language_info": {
      "name": "python"
    }
  },
  "cells": [
    {
      "cell_type": "markdown",
      "metadata": {
        "id": "view-in-github",
        "colab_type": "text"
      },
      "source": [
        "<a href=\"https://colab.research.google.com/github/SharonCao0920/AI/blob/main/CS483_Lecture_HW_4.ipynb\" target=\"_parent\"><img src=\"https://colab.research.google.com/assets/colab-badge.svg\" alt=\"Open In Colab\"/></a>"
      ]
    },
    {
      "cell_type": "code",
      "execution_count": 1,
      "metadata": {
        "colab": {
          "base_uri": "https://localhost:8080/"
        },
        "id": "0VnLrRuSQ0Ml",
        "outputId": "45c2f2db-c7d0-4ddb-ae09-1624ecc24970"
      },
      "outputs": [
        {
          "output_type": "stream",
          "name": "stdout",
          "text": [
            "/content/drive/My Drive/Colab Notebooks/Lecture\n",
            "   Age Competition      Type Profit\n",
            "0  Old         Yes  Software   Down\n",
            "1  Old          No  Software   Down\n",
            "2  Old          No  Hardware   Down\n",
            "3  Mid         Yes  Software   Down\n",
            "4  Mid         Yes  Hardware   Down\n",
            "5  Mid          No  Hardware     Up\n",
            "6  Mid          No  Software     Up\n",
            "7  New         Yes  Software     Up\n",
            "8  New          No  Hardware     Up\n",
            "9  New          No  Software     Up\n",
            "   Age Competition      Type Profit\n",
            "0  Old         Yes  Software   Down\n",
            "1  Old          No  Software   Down\n",
            "2  Old          No  Hardware   Down\n",
            "3  Mid         Yes  Software   Down\n",
            "4  Mid         Yes  Hardware   Down\n",
            "5  Mid          No  Hardware     Up\n",
            "6  Mid          No  Software     Up\n",
            "7  New         Yes  Software     Up\n",
            "8  New          No  Hardware     Up\n",
            "9  New          No  Software     Up\n",
            "Number of samples in each class is:\n",
            "Down    5\n",
            "Up      5\n",
            "Name: Profit, dtype: int64\n",
            "\n",
            "Gini Impurity of the class is 0.500\n",
            "Gini for Age is 0.200\n",
            "Gini for Competition is 0.417\n",
            "Gini for Type is 0.500\n",
            "The minimum value of Gini Impurity : 0.2 \n",
            "The maximum value of Gini Gain     : 0.8 \n",
            "The selected attiribute is:  Age\n"
          ]
        }
      ],
      "source": [
        "%cd /content/drive/My Drive/Colab Notebooks/Lecture\n",
        "import pandas as pd\n",
        "# Defining a simple dataset\n",
        "attribute_names =  ['Age', 'Competition','Type']\n",
        "class_name = 'Profit'\n",
        "data1 ={\n",
        "    'Age' : ['Old', 'Old', 'Old', 'Mid', 'Mid', 'Mid','Mid', 'New', 'New', 'New'],\n",
        "    'Competition' : ['Yes', 'No', 'No', 'Yes', 'Yes', 'No', 'No', 'Yes','No', 'No'],\n",
        "    'Type' : ['Software','Software','Hardware','Software',\n",
        "              'Hardware','Hardware','Software','Software','Hardware','Software'],\n",
        "    'Profit' : ['Down', 'Down', 'Down', 'Down', 'Down', 'Up', 'Up', 'Up', 'Up', 'Up']\n",
        "    }\n",
        "df1 = pd.DataFrame (data1, columns=data1.keys())\n",
        "print(df1)\n",
        "df1 = pd.read_excel(\"HW#4_data.xlsx\",\"Sheet1\")\n",
        "print(df1)\n",
        "#class_name = 'default'\n",
        "\n",
        "# STEP 1: Calculate gini(D)\n",
        "def gini_impurity (value_counts):\n",
        "    n = value_counts.sum()\n",
        "    p_sum = 0\n",
        "    for key in value_counts.keys():\n",
        "        p_sum = p_sum  +  (value_counts[key] / n ) * (value_counts[key] / n ) \n",
        "    gini = 1 - p_sum\n",
        "    return gini\n",
        "\n",
        "class_value_counts = df1[class_name].value_counts()\n",
        "print(f'Number of samples in each class is:\\n{class_value_counts}')\n",
        "\n",
        "gini_class = gini_impurity(class_value_counts)\n",
        "print(f'\\nGini Impurity of the class is {gini_class:.3f}')\n",
        "\n",
        "# STEP 2: \n",
        "# Calculating  gini impurity for the attiributes\n",
        "def gini_split_a(attribute_name):\n",
        "    attribute_values = df1[attribute_name].value_counts()\n",
        "    gini_A = 0 \n",
        "    for key in attribute_values.keys():\n",
        "        df_k = df1[class_name][df1[attribute_name] == key].value_counts()\n",
        "        n_k = attribute_values[key]\n",
        "        n = df1.shape[0]\n",
        "        gini_A = gini_A + (( n_k / n) * gini_impurity(df_k))\n",
        "    return gini_A\n",
        "\n",
        "gini_attiribute ={}\n",
        "for key in attribute_names:\n",
        "    gini_attiribute[key] = gini_split_a(key)\n",
        "    print(f'Gini for {key} is {gini_attiribute[key]:.3f}')\n",
        "\n",
        "# STEP 3: \n",
        "# Compute Gini gain values to find the best split\n",
        "# An attribute has maximum Gini gain is selected for splitting.\n",
        "\n",
        "min_value = min(gini_attiribute.values())\n",
        "print('The minimum value of Gini Impurity : {0:.3} '.format(min_value))\n",
        "print('The maximum value of Gini Gain     : {0:.3} '.format(1-min_value))\n",
        "\n",
        "selected_attribute = min(gini_attiribute.keys())\n",
        "print('The selected attiribute is: ', selected_attribute)"
      ]
    }
  ]
}
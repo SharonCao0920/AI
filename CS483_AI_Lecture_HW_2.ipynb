{
  "nbformat": 4,
  "nbformat_minor": 0,
  "metadata": {
    "colab": {
      "name": "CS483 AI Lecture HW#2.ipynb",
      "provenance": [],
      "collapsed_sections": [],
      "authorship_tag": "ABX9TyOpBzmXPm1HUM1nrJxmTpFu",
      "include_colab_link": true
    },
    "kernelspec": {
      "name": "python3",
      "display_name": "Python 3"
    },
    "language_info": {
      "name": "python"
    }
  },
  "cells": [
    {
      "cell_type": "markdown",
      "metadata": {
        "id": "view-in-github",
        "colab_type": "text"
      },
      "source": [
        "<a href=\"https://colab.research.google.com/github/SharonCao0920/AI/blob/main/CS483_AI_Lecture_HW_2.ipynb\" target=\"_parent\"><img src=\"https://colab.research.google.com/assets/colab-badge.svg\" alt=\"Open In Colab\"/></a>"
      ]
    },
    {
      "cell_type": "code",
      "execution_count": 13,
      "metadata": {
        "colab": {
          "base_uri": "https://localhost:8080/",
          "height": 317
        },
        "id": "mGWllLupGNTu",
        "outputId": "aa6c0e03-eb84-4fce-cf68-e13aa4e11ee6"
      },
      "outputs": [
        {
          "output_type": "stream",
          "name": "stdout",
          "text": [
            "Theta 0 = 0.11\n",
            "Theta 1 = 1.42\n",
            "The graph is: \n"
          ]
        },
        {
          "output_type": "display_data",
          "data": {
            "text/plain": [
              "<Figure size 432x288 with 1 Axes>"
            ],
            "image/png": "[encoded data removed]"
          },
          "metadata": {
            "needs_background": "light"
          }
        }
      ],
      "source": [
        "\"\"\"\n",
        "Question #1\n",
        "Train your hypothesis functions for multiclass classification from the following \n",
        "given dataset by python program. And then predict what Y’s value is in the last \n",
        "4 samples (highlighted in red color). Verify your classifier model by plotting \n",
        "all points and decision lines \n",
        "\"\"\"\n",
        "import numpy as np\n",
        "\n",
        "#cost function\n",
        "#differential partial derivitive\n",
        "def pTheta(theta0,theta1, x, y):\n",
        "  pTh0 = 0\n",
        "  pTh1 = 0\n",
        "  for i in range(0, len(x)):\n",
        "    pTh0 += (theta0 + theta1 * x[i] - y[i]) * 1\n",
        "    pTh1 += (theta0 + theta1 * x[i] - y[i]) * x[i]\n",
        "  return (pTh0/len(x), pTh1/len(x))\n",
        "\n",
        "\n",
        "#Gradient descent method\n",
        "def theta (theta0, theta1, alpha, iteration, x, y):\n",
        "  (der_t0, der_t1) = pTheta(theta0,theta1, x, y)\n",
        "  theta_0, theta_1 = theta0, theta1\n",
        "  for i in range(iteration):\n",
        "    theta_0=theta0-alpha*der_t0\n",
        "    theta_1=theta1-alpha*der_t1\n",
        "    (der_t0, der_t1) = pTheta(theta0, theta1, x, y)\n",
        "    \n",
        "  print (\"Theta 0 =\", theta_0)\n",
        "  print (\"Theta 1 =\", theta_1)\n",
        "  return (theta_0, theta_1)\n",
        "\n",
        "\n",
        "#h(theta) = theta0 + theta1*x\n",
        "x = (1, 3, 5, 7, 9, 11, 13, 15, 17, 19)\n",
        "y = (3, 3, 7, 7, 11, 11, 15, 15, 19, 19)\n",
        "\n",
        "theta(0, 0, 0.01, 10000, x, y)\n",
        "\n",
        "\"\"\"\n",
        "Plot (x, y)\n",
        "\"\"\"\n",
        "import pandas as pd\n",
        "import matplotlib.pyplot as plt\n",
        "import numpy as np\n",
        "\n",
        "#create DataFrame\n",
        "df = pd.DataFrame({'x': [1, 3, 5, 7, 9, 11, 13, 15, 17, 19],\n",
        "                   'y': [3, 3, 7, 7, 11, 11, 15, 15, 19, 19]})\n",
        "\n",
        "#fit polynomial model 1\n",
        "model1 = np.poly1d(np.polyfit(df.x, df.y, 1))\n",
        "print(\"The graph is: \")\n",
        "polyline = np.linspace(1, 20, 50)\n",
        "plt.scatter(df.x, df.y)\n",
        "plt.plot(polyline, model1(polyline), color='green')\n",
        "plt.show()"
      ]
    },
    {
      "cell_type": "code",
      "source": [
        "\"\"\"\n",
        "Question #2\n",
        "Create hypothesis function/loss function/cost function for binary classification, \n",
        "and train your module by python program based on gradient descent algorithm from \n",
        "he following breast cancer dataset. After that, predict which class of last two \n",
        "records (highlighted in red color) is \n",
        "\"\"\"\n",
        "\n",
        "from sklearn.datasets import make_classification\n",
        "from matplotlib import pyplot as plt\n",
        "from sklearn.linear_model import LogisticRegression\n",
        "from sklearn.model_selection import train_test_split\n",
        "from sklearn.metrics import confusion_matrix\n",
        "import pandas as pd\n",
        "\n",
        "data = pd.DataFrame()\n",
        "\n",
        "data['x1']=[8,5,1,8,7,4,4,10,6,7,10,3,8,1,5,3,5,2,1,3,2,10,2,3,2,10,6,5,2,10,6,5]\n",
        "data['x2']=[10,3,1,7,4,1,1,7,1,3,5,1,4,1,2,2,1,1,1,1,1,7,1,1,1,10,2,4,5,4,10,6]\n",
        "data['x3']=[10,3,1,5,6,1,1,7,1,2,5,1,5,1,3,1,1,1,3,1,1,7,1,2,1,10,1,4,3,3,10,5]\n",
        "data['x4']=[8,3,1,10,4,1,1,6,1,10,3,1,1,1,4,1,1,1,1,1,1,3,2,1,1,8,1,9,3,1,2,6]\n",
        "data['x5']=[7,2,2,7,6,2,2,4,2,5,6,2,2,2,2,1,2,2,2,1,2,8,2,2,2,6,1,2,6,3,8,10]\n",
        "data['x6']=[10,3,3,9,1,1,1,10,1,10,7,1,5,1,7,1,1,1,1,1,1,5,1,1,1,1,1,10,7,3,10,1]\n",
        "data['x7']=[9,4,3,5,4,2,3,4,3,5,7,2,7,3,3,2,2,2,1,2,3,7,3,2,2,8,7,5,7,6,7,3]\n",
        "data['x8']=[7,4,1,5,3,1,1,1,1,4,10,1,3,1,6,1,1,1,1,1,1,4,1,1,1,9,1,6,5,5,3,1]\n",
        "data['x9']=[1,1,1,4,1,1,1,2,1,4,1,1,1,1,1,1,1,1,1,1,1,3,1,1,1,1,1,1,1,2,3,1]\n",
        "data['y']=[4,4,2,4,4,2,2,4,2,4,4,2,4,2,4,2,2,2,2,2,2,4,2,2,2,4,2,4,4,4,4,4]\n",
        "#data['y']=[1,1,0,1,1,0,0,1,0,1,1,0,1,0,1,0,0,0,0,0,0,1,0,0,0,1,0,1,1,1,1,1]\n",
        "\n",
        "#print(data)\n",
        "#sns.pairplot(data, hue='y')\n",
        "\n",
        "from sklearn.model_selection import train_test_split\n",
        "# 80% train\n",
        "train, test= train_test_split(data.values, test_size=0.2)\n",
        "\n",
        "from math import exp\n",
        "# for general cases of n features (linear z)\n",
        "def predict(row, theta):\n",
        "  x = row [0:9]\n",
        "  #hypothesis function\n",
        "  yhat = theta[0]\n",
        "  for i, xi in enumerate(x):\n",
        "    yhat += theta[i+1]*xi\n",
        "  return 1.0 / (1.0 + exp(-yhat))\n",
        "\n",
        "l_rate = 0.3\n",
        "n_iter = 100\n",
        "nd = 9\n",
        "\n",
        "#loss function\n",
        "loss = np.zeros(n_iter)\n",
        "theta = [0.0]*(nd+1)\n",
        "for iter in range(n_iter):\n",
        "  sum_error = 0\n",
        "  for row in train:\n",
        "    x = row[0:-1]\n",
        "    y = row[-1] #last column in matrix\n",
        "    yhat = predict(row, theta)\n",
        "    error = y-yhat\n",
        "    sum_error += error*2\n",
        "    theta[0] += l_rate*error*yhat*(1-yhat)\n",
        "    for i in range (nd):\n",
        "      theta[i+1] += l_rate*error*yhat*(1-yhat)*(x[i]**2)\n",
        "  loss[iter] = sum_error\n",
        "\n",
        "print()\n",
        "for i in range(nd):\n",
        "  print(\"Theta \", i, \" = \", theta[i] )\n",
        "print()\n",
        "\n",
        "plt.plot(loss)\n",
        "plt.title('Curve for loss function')\n",
        "plt.show()\n",
        "\n",
        "def test(x, theta):\n",
        "  yhat = theta[0]\n",
        "  for i in range (len(x)-1):\n",
        "     yhat += theta[i+1]*(x[i]**2)\n",
        "  return yhat\n",
        "x_p1=[10,10,10,4,8,1,8, 10, 1]\n",
        "x_p2=[6,6,6,9,6,2,7,8,1]\n",
        "\n",
        "print(\"First predition result: \",\"Class 4\" if test(x_p1, theta)>0 else \"Class 2\")\n",
        "print(\"Second predition result: \",\"Class 4\" if test(x_p2, theta)>0 else \"Class 2\")"
      ],
      "metadata": {
        "colab": {
          "base_uri": "https://localhost:8080/",
          "height": 507
        },
        "id": "EVP5apMXePaE",
        "outputId": "10ee308c-307f-43e2-a4a8-2418cc247756"
      },
      "execution_count": 163,
      "outputs": [
        {
          "output_type": "stream",
          "name": "stdout",
          "text": [
            "\n",
            "Theta  0  =  0.25212746225707083\n",
            "Theta  1  =  1.4078075890845227\n",
            "Theta  2  =  0.6030551920504754\n",
            "Theta  3  =  0.7411498220548309\n",
            "Theta  4  =  0.2724068006753089\n",
            "Theta  5  =  0.6320985090107721\n",
            "Theta  6  =  0.25341039095149764\n",
            "Theta  7  =  1.0586820949745919\n",
            "Theta  8  =  0.25312594410193134\n",
            "\n"
          ]
        },
        {
          "output_type": "display_data",
          "data": {
            "text/plain": [
              "<Figure size 432x288 with 1 Axes>"
            ],
            "image/png": "[encoded data removed]"
          },
          "metadata": {
            "needs_background": "light"
          }
        },
        {
          "output_type": "stream",
          "name": "stdout",
          "text": [
            "First predition result:  Class 4\n",
            "Second predition result:  Class 4\n"
          ]
        }
      ]
    },
    {
      "cell_type": "code",
      "source": [
        "\"\"\"\n",
        "Question #3\n",
        "Given the following dataset, design python function as binary classifier for the \n",
        "following two classes. \n",
        "\t- Plot all points in two different classes first in Excel or python matplotlib functions\n",
        "\t- Observe what boundary decision function is good to separate two classes\n",
        "  - Build up hypothesis function/loss function/cost function based on your \n",
        "  selected   decision function\n",
        "  - Write python program to train your model\n",
        "  - After model training, plot decision boundary function in Excel or python \n",
        "  matplotlib functions\n",
        "\"\"\"\n",
        "\n",
        "import pandas as pd\n",
        "import numpy as np\n",
        "import matplotlib.pyplot as plt\n",
        "from sklearn.datasets import make_blobs\n",
        "import seaborn as sns\n",
        "\n",
        "data = pd.DataFrame()\n",
        "\n",
        "data['x1']=[-3.98, -3.464,3.461,-2.22,-2.02,-2.01,-1.42,-1.416,-1.09,-0.19,0.01,0.03,\n",
        "    0.04,0.06,0.07,0.12,1.11,1.411,1.414,1.86,1.96,2.11,3.461,3.464,4.12]\n",
        "data['x2']=[-0.12,-2.11,1.89,-3.474,0.03,3.459,-1.409,1.419,0.08,-4.13,1.02,-2.12,\n",
        "    2.06,3.97,0.1,-1.12,0.09,1.419,-1.415,3.47,-0.12,-3.472,-1.87,2.07,0.09]\n",
        "data['y']=[1,1,1,1,0,1,0,0,0,1,0,0,0,1,0,0,0,0,0,1,0,1,1,1,1]\n",
        "\n",
        "# Create a scatter plot\n",
        "plt.scatter(data.x1, data.x2, c=data.y, cmap='rainbow')\n",
        "plt.title('Scatter Plot of Logistic Regression')\n",
        "plt.show()\n",
        "#sns.pairplot(data, hue='y')\n",
        "\n",
        "from sklearn.model_selection import train_test_split\n",
        "# 80% train\n",
        "train, test= train_test_split(data.values, test_size=0.2)\n",
        "\n",
        "from math import exp\n",
        "\n",
        "def predict(row, theta):\n",
        "  x = row [0:2]\n",
        "  #hypothesis function\n",
        "  yhat = theta[0] + theta[1]*(x[0]**2) + theta[2]*(x[1]**2)\n",
        "  return 1.0 / (1.0 + exp(-yhat))\n",
        "\n",
        "l_rate = 0.3\n",
        "n_iter = 100\n",
        "\n",
        "#loss function\n",
        "loss = np.zeros(n_iter)\n",
        "theta = [0.0, 0.0, 0.0]\n",
        "for iter in range(n_iter):\n",
        "  sum_error = 0\n",
        "  for row in train:\n",
        "    x = row[0:-1]\n",
        "    y = row[-1] #last column in matrix\n",
        "    yhat = predict(row, theta)\n",
        "    error = y-yhat\n",
        "    sum_error += error*2\n",
        "    theta[0] += l_rate*error*yhat*(1-yhat)\n",
        "    theta[1] += l_rate*error*yhat*(1-yhat)*(x[0]**2)\n",
        "    theta[2] += l_rate*error*yhat*(1-yhat)*(x[1]**2)\n",
        "  loss[iter] = sum_error\n",
        "\n",
        "print()\n",
        "print(\"Theta 0 = \", theta[0])\n",
        "print(\"Theta 1 = \", theta[1])\n",
        "print(\"Theta 2 = \", theta[2])\n",
        "print()\n",
        "\n",
        "\n",
        "# #plot hypothesis function\n",
        "# from pylab import meshgrid, cm, imshow, contour, clabel, colorbar, axis, title, show\n",
        "\n",
        "# def hypothesis_func(x1, x2):\n",
        "#   return 1.0 / (1.0 + exp(-(theta[0] + theta[1]*(x1**2) + theta[2]*(x2**2))))\n",
        "\n",
        "# x1 = [-3.98, -3.464,3.461,-2.22,-2.02,-2.01,-1.42,-1.416,-1.09,-0.19,0.01,0.03,\n",
        "#     0.04,0.06,0.07,0.12,1.11,1.411,1.414,1.86,1.96,2.11,3.461,3.464,4.12]\n",
        "# x2 =[-0.12,-2.11,1.89,-3.474,0.03,3.459,-1.409,1.419,0.08,-4.13,1.02,-2.12,\n",
        "#     2.06,3.97,0.1,-1.12,0.09,1.419,-1.415,3.47,-0.12,-3.472,-1.87,2.07,0.09]\n",
        "# X1, X2 = meshgrid(x1, x2)\n",
        "# Y = hypothesis_func(X1, X2)\n",
        "# im = imshow(Y, cmap=cm.RdBu)\n",
        "\n",
        "# cset = contour(Y,arange(-1,1,0.1),linewidths=2,cmap=cm.Set2)\n",
        "# clabel(cset,inline=True,fmt='%1.1f',fontsize=10)\n",
        "# colorbar(im) # adding the colobar on the right\n",
        "# # latex fashion title\n",
        "# title('Hypothesis')\n",
        "# show()\n",
        "\n",
        "plt.plot(loss)\n",
        "plt.title('Curve for loss function')\n",
        "plt.show()\n",
        "\n",
        "\n",
        "\n",
        "\n",
        "\n"
      ],
      "metadata": {
        "colab": {
          "base_uri": "https://localhost:8080/",
          "height": 632
        },
        "id": "Pivw-U5dlZew",
        "outputId": "1202a917-e858-4a38-aadc-1e3f0d31ca05"
      },
      "execution_count": 138,
      "outputs": [
        {
          "output_type": "display_data",
          "data": {
            "text/plain": [
              "<Figure size 432x288 with 1 Axes>"
            ],
            "image/png": "[encoded data removed]"
          },
          "metadata": {
            "needs_background": "light"
          }
        },
        {
          "output_type": "stream",
          "name": "stdout",
          "text": [
            "\n",
            "Theta 0 =  -4.478039687301264\n",
            "Theta 1 =  0.49926685580735125\n",
            "Theta 2 =  0.47627181181190686\n",
            "\n"
          ]
        },
        {
          "output_type": "display_data",
          "data": {
            "text/plain": [
              "<Figure size 432x288 with 1 Axes>"
            ],
            "image/png": "[encoded data removed]"
          },
          "metadata": {
            "needs_background": "light"
          }
        }
      ]
    },
    {
      "cell_type": "code",
      "source": [
        "\"\"\"\n",
        "Question #4\n",
        "Train your hypothesis functions for multiclass classification from the following \n",
        "given dataset by python program. And then predict what Y’s value is in the last \n",
        "4 samples (highlighted in red color). Verify your classifier model by plotting \n",
        "all points and decision lines  \n",
        "\"\"\"\n",
        "\n",
        "import pandas as pd\n",
        "import numpy as np\n",
        "import matplotlib.pyplot as plt\n",
        "from sklearn.datasets import make_blobs\n",
        "import seaborn as sns\n",
        "\n",
        "data = pd.DataFrame()\n",
        "\n",
        "data['x1']=[3.25,3.3,3.32,3.35,4.01,4.03,4.05,4.05,4.06,4.07,5.22,5.24,5.25,5.28,8.15,8.23,9.38,9.4,10.2,10.8]\n",
        "data['x2']=[7.956,2.2,3.41,10.272,1.65,2.51,4.21,7.38,11.412,9.198,2.15,3.41,7.866,10.008,6.3,7.95,7.34,8.21,6.52,7.72]\n",
        "data['y']=[2,0,0,2,0,0,0,2,2,2,0,0,2,2,1,1,1,1,1,1]\n",
        "data['y1']=[0,1,1,0,1,1,1,0,0,0,1,1,0,0,0,0,0,0,0,0]\n",
        "data['y2']=[0,0,0,0,0,0,0,0,0,0,0,0,0,0,1,1,1,1,1,1]\n",
        "data['y3']=[1,0,0,1,0,0,0,1,1,1,0,0,1,1,0,0,0,0,0,0]\n",
        "\n",
        "#print(data)\n",
        "# Create a scatter plot\n",
        "plt.scatter(data.x1, data.x2, c=data.y, cmap='rainbow')\n",
        "plt.title('Scatter Plot of Logistic Regression')\n",
        "plt.show()\n",
        "#sns.pairplot(data, hue='y')\n",
        "\n",
        "from sklearn.model_selection import train_test_split\n",
        "# 80% train\n",
        "train, test= train_test_split(data.values, test_size=0.2)\n",
        "\n",
        "from math import exp\n",
        "\n",
        "def predict(row, theta):\n",
        "  x = row [0:2]\n",
        "  #hypothesis function\n",
        "  yhat = theta[0] + theta[1]*x[0] + theta[2]*x[1]\n",
        "  return 1.0 / (1.0 + exp(-yhat))\n",
        "\n",
        "#loss function\n",
        "def find_theta(train, l_rate, n_iter, c_num):\n",
        "  loss = np.zeros(n_iter)\n",
        "  theta = [0.0, 0.0, 0.0]\n",
        "  for iter in range(n_iter):\n",
        "    sum_error = 0\n",
        "    for row in train:\n",
        "      x = row[0:-1]\n",
        "      y = row[c_num] #last column in matrix\n",
        "      yhat = predict(row, theta)\n",
        "      error = y-yhat\n",
        "      sum_error += error*2\n",
        "      theta[0] += l_rate*error*yhat*(1-yhat)\n",
        "      theta[1] += l_rate*error*yhat*(1-yhat)*x[0]\n",
        "      theta[2] += l_rate*error*yhat*(1-yhat)*x[1]\n",
        "    loss[iter] = sum_error\n",
        "  return theta\n",
        "\n",
        "def print_theta(theta):\n",
        "  for i in range(len(theta)): \n",
        "    print(\"Theta \", i, \" is: \", theta[i])\n",
        "\n",
        "#prediction for 4 results\n",
        "def predict_r(p, theta):\n",
        "  yhat = theta[0] + theta[1]*p[0] + theta[2]*p[1]\n",
        "  return yhat\n",
        "  #return 1.0 / (1.0 + exp(-yhat))\n",
        "\n",
        "#data to predict\n",
        "p1=[4.01,3.02]\n",
        "p2=[9.1,6.5]\n",
        "p3=[3.50,9.50]\n",
        "p4=[6.01,6.01]\n",
        "\n",
        "########### Group 0 ################\n",
        "print(\"Test Group '0': \")\n",
        "l_rate = 0.3\n",
        "n_iter = 1000\n",
        "\n",
        "theta = find_theta(train, l_rate, n_iter, -3)\n",
        "\n",
        "print_theta(theta)\n",
        "# print(predict_r(p1, theta))\n",
        "# print(predict_r(p2, theta))\n",
        "# print(predict_r(p3, theta))\n",
        "# print(predict_r(p4, theta))\n",
        "print(\"p1 is in Group '0'\" if predict_r(p1, theta) >= 0 else \"\")\n",
        "print(\"p2 is in Group '0'\" if predict_r(p2, theta) >= 0 else \"\")\n",
        "print(\"p3 is in Group '0'\" if predict_r(p3, theta) >= 0 else \"\")\n",
        "print(\"p4 is in Group '0'\" if predict_r(p4, theta) >= 0 else \"\")\n",
        "\n",
        "########### Group 1 ################\n",
        "print(\"Test Group '1': \")\n",
        "l_rate = 0.3\n",
        "n_iter = 1000\n",
        "\n",
        "theta = find_theta(train, l_rate, n_iter, -2)\n",
        "\n",
        "print_theta(theta)\n",
        "# print(predict_r(p1, theta))\n",
        "# print(predict_r(p2, theta))\n",
        "# print(predict_r(p3, theta))\n",
        "# print(predict_r(p4, theta))\n",
        "print(\"p1 is in Group '1'\" if predict_r(p1, theta) >= 0 else \"\")\n",
        "print(\"p2 is in Group '1'\" if predict_r(p2, theta) >= 0 else \"\")\n",
        "print(\"p3 is in Group '1'\" if predict_r(p3, theta) >= 0 else \"\")\n",
        "print(\"p4 is in Group '1'\" if predict_r(p4, theta) >= 0 else \"\")\n",
        "\n",
        "########### Group 2 ################\n",
        "print(\"Test Group '2': \")\n",
        "l_rate = 0.3\n",
        "n_iter = 1000\n",
        "\n",
        "theta = find_theta(train, l_rate, n_iter, -1)\n",
        "\n",
        "print_theta(theta)\n",
        "# print(predict_r(p1, theta))\n",
        "# print(predict_r(p2, theta))\n",
        "# print(predict_r(p3, theta))\n",
        "# print(predict_r(p4, theta))\n",
        "print(\"p1 is in Group '2'\" if predict_r(p1, theta) >= 0 else \"\")\n",
        "print(\"p2 is in Group '2'\" if predict_r(p2, theta) >= 0 else \"\")\n",
        "print(\"p3 is in Group '2'\" if predict_r(p3, theta) >= 0 else \"\")\n",
        "print(\"p4 is in Group '2'\" if predict_r(p4, theta) >= 0 else \"\")\n"
      ],
      "metadata": {
        "colab": {
          "base_uri": "https://localhost:8080/",
          "height": 697
        },
        "id": "QAv4Zgpv4dU7",
        "outputId": "ef608219-4710-42d7-cb02-ce6f40ce5589"
      },
      "execution_count": 165,
      "outputs": [
        {
          "output_type": "display_data",
          "data": {
            "text/plain": [
              "<Figure size 432x288 with 1 Axes>"
            ],
            "image/png": "[encoded data removed]"
          },
          "metadata": {
            "needs_background": "light"
          }
        },
        {
          "output_type": "stream",
          "name": "stdout",
          "text": [
            "Test Group '0': \n",
            "Theta  0  is:  9.868169975906746\n",
            "Theta  1  is:  -0.3259596902718352\n",
            "Theta  2  is:  -1.5631891463332728\n",
            "p1 is in Group '0'\n",
            "\n",
            "\n",
            "\n",
            "Test Group '1': \n",
            "Theta  0  is:  -10.892830711963821\n",
            "Theta  1  is:  1.702675147819209\n",
            "Theta  2  is:  -0.12877856938844265\n",
            "\n",
            "p2 is in Group '1'\n",
            "\n",
            "\n",
            "Test Group '2': \n",
            "Theta  0  is:  -1.5068853568783098\n",
            "Theta  1  is:  -3.6078554242261465\n",
            "Theta  2  is:  3.0171688609605147\n",
            "\n",
            "\n",
            "p3 is in Group '2'\n",
            "\n"
          ]
        }
      ]
    },
    {
      "cell_type": "code",
      "source": [
        ""
      ],
      "metadata": {
        "id": "aHFZGv7fTna2"
      },
      "execution_count": null,
      "outputs": []
    }
  ]
}
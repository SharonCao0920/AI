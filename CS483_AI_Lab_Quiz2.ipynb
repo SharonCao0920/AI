{
  "nbformat": 4,
  "nbformat_minor": 0,
  "metadata": {
    "colab": {
      "name": "CS483 AI Lab Quiz2.ipynb",
      "provenance": [],
      "authorship_tag": "ABX9TyOAPnxWaTB0CIZRFFZqXvoq",
      "include_colab_link": true
    },
    "kernelspec": {
      "name": "python3",
      "display_name": "Python 3"
    },
    "language_info": {
      "name": "python"
    }
  },
  "cells": [
    {
      "cell_type": "markdown",
      "metadata": {
        "id": "view-in-github",
        "colab_type": "text"
      },
      "source": [
        "<a href=\"https://colab.research.google.com/github/SharonCao0920/AI/blob/main/CS483_AI_Lab_Quiz2.ipynb\" target=\"_parent\"><img src=\"https://colab.research.google.com/assets/colab-badge.svg\" alt=\"Open In Colab\"/></a>"
      ]
    },
    {
      "cell_type": "code",
      "source": [
        "\"\"\"\n",
        "1.Write a program to implement Bootstrapping algorithm to find the median number \n",
        "in the given dataset shown in file “Bootstrapping example” \n",
        "\n",
        "*Notice that it is suggested to create 10 new sets randomly \n",
        "\"\"\"\n",
        "import numpy as np\n",
        "\n",
        "dataset=[12,99,45,78,34]\n",
        "\n",
        "print(\"The original dataset is:\\n\",dataset)\n",
        "print(\"Median of the original sample\",np.median(dataset))\n",
        "\n",
        "#Median list to hold Median value for each Bootstrap\n",
        "median_list=[]\n",
        "#bootstrap_data to hold all 10,000 random datasets\n",
        "bootstrap_data=[]\n",
        "\n",
        "#iterate to generate dataset and Median of each set\n",
        "#*Notice that it is suggested to create 10 new sets randomly\n",
        "#using larger number of set for better result show\n",
        "for i in range(10):\n",
        "  sample=np.random.choice(dataset,size=5)\n",
        "  bootstrap_data.append(sample)\n",
        "  median_list.append(np.median(sample))\n",
        "\n",
        "#print boostrap datasets\n",
        "for i in range(1,len(bootstrap_data)+1):  \n",
        "  print(\"--------------------\")\n",
        "  print(\"Bootstrap No.\", i)\n",
        "  print(bootstrap_data[i-1])\n",
        "\n",
        "#print median values of each bootstrap\n",
        "print(\"---------------------------------------------\")\n",
        "print(\"Median of Each Bootstrap:\")\n",
        "for i in range(1,len(median_list)+1):\n",
        "  print(\"Median of Bootstrap No.\", i, \"\\t\", median_list[i-1])\n",
        "\n",
        "#create dic to store median and frenquency\n",
        "frequency = {}\n",
        "for median in median_list:\n",
        "   if median in frequency:\n",
        "      frequency[median] += 1\n",
        "   else:\n",
        "      frequency[median] = 1\n",
        "\n",
        "# printing the frequency\n",
        "print(\"--------------------\")\n",
        "print(\"Median\\tFrequency \")\n",
        "for key, value in frequency.items():\n",
        "  print(key,\"\\t\",value)\n",
        "\n",
        "#plot frequency for \n",
        "import matplotlib.pyplot as plt\n",
        "\n",
        "names = list(frequency.keys())\n",
        "values = list(frequency.values())\n",
        "\n",
        "print(\"\")\n",
        "plt.bar(range(len(frequency)), frequency.values())\n",
        "plt.title(\"Median of Bootstrap with Frequency\")\n",
        "plt.ylabel(\"Frequency\")\n",
        "plt.xticks(range(len(frequency)), frequency.keys())\n",
        "plt.show()\n",
        "\n",
        "#print the median value\n",
        "for key, value in frequency.items():\n",
        "  if value == max(frequency.values(),):\n",
        "    print(\"Median calculated by Bootstrap Method is: \",key)\n"
      ],
      "metadata": {
        "colab": {
          "base_uri": "https://localhost:8080/",
          "height": 1000
        },
        "id": "zo1WlC0mV9aD",
        "outputId": "c714ee1b-b348-478b-e2d9-cd41dc1ed3a7"
      },
      "execution_count": 51,
      "outputs": [
        {
          "output_type": "stream",
          "name": "stdout",
          "text": [
            "The original dataset is:\n",
            " [12, 99, 45, 78, 34]\n",
            "Median of the original sample 45.0\n",
            "--------------------\n",
            "Bootstrap No. 1\n",
            "[45 34 99 12 45]\n",
            "--------------------\n",
            "Bootstrap No. 2\n",
            "[12 99 45 12 99]\n",
            "--------------------\n",
            "Bootstrap No. 3\n",
            "[45 99 12 34 45]\n",
            "--------------------\n",
            "Bootstrap No. 4\n",
            "[12 12 12 34 45]\n",
            "--------------------\n",
            "Bootstrap No. 5\n",
            "[78 34 12 12 34]\n",
            "--------------------\n",
            "Bootstrap No. 6\n",
            "[12 78 78 78 12]\n",
            "--------------------\n",
            "Bootstrap No. 7\n",
            "[99 78 99 34 34]\n",
            "--------------------\n",
            "Bootstrap No. 8\n",
            "[45 99 12 34 34]\n",
            "--------------------\n",
            "Bootstrap No. 9\n",
            "[78 34 45 45 45]\n",
            "--------------------\n",
            "Bootstrap No. 10\n",
            "[45 78 45 34 34]\n",
            "---------------------------------------------\n",
            "Median of Each Bootstrap:\n",
            "Median of Bootstrap No. 1 \t 45.0\n",
            "Median of Bootstrap No. 2 \t 45.0\n",
            "Median of Bootstrap No. 3 \t 45.0\n",
            "Median of Bootstrap No. 4 \t 12.0\n",
            "Median of Bootstrap No. 5 \t 34.0\n",
            "Median of Bootstrap No. 6 \t 78.0\n",
            "Median of Bootstrap No. 7 \t 78.0\n",
            "Median of Bootstrap No. 8 \t 34.0\n",
            "Median of Bootstrap No. 9 \t 45.0\n",
            "Median of Bootstrap No. 10 \t 45.0\n",
            "--------------------\n",
            "Median\tFrequency \n",
            "45.0 \t 5\n",
            "12.0 \t 1\n",
            "34.0 \t 2\n",
            "78.0 \t 2\n",
            "\n"
          ]
        },
        {
          "output_type": "display_data",
          "data": {
            "text/plain": [
              "<Figure size 432x288 with 1 Axes>"
            ],
            "image/png": "[encoded data removed]"
          },
          "metadata": {
            "needs_background": "light"
          }
        },
        {
          "output_type": "stream",
          "name": "stdout",
          "text": [
            "Median calculated by Bootstrap Method is:  45.0\n"
          ]
        }
      ]
    },
    {
      "cell_type": "code",
      "source": [
        ""
      ],
      "metadata": {
        "id": "3Vgl5mRlbjj3"
      },
      "execution_count": null,
      "outputs": []
    }
  ]
}